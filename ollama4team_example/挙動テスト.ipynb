{
 "cells": [
  {
   "cell_type": "code",
   "execution_count": 1,
   "id": "3ff2cf7e-febf-4672-bd1d-4fed29fdd430",
   "metadata": {},
   "outputs": [],
   "source": [
    "from typing import Any, Dict, Iterator, List, Optional\n",
    "\n",
    "import requests\n",
    "from langchain_community.llms import Ollama\n",
    "from langchain_community.embeddings import OllamaEmbeddings"
   ]
  },
  {
   "cell_type": "code",
   "execution_count": 2,
   "id": "964d2477-9dc7-4b9f-afd4-4d2260e35849",
   "metadata": {},
   "outputs": [],
   "source": [
    "class Ollama4Team(Ollama):\n",
    "    \"\"\"Ollama4Team is designed for team usage of Ollama.\n",
    "    Ref: https://github.com/langchain-ai/langchain/blob/cccc8fbe2fe59bde0846875f67aa046aeb1105a3/libs/community/langchain_community/llms/ollama.py\n",
    "\n",
    "    Example:\n",
    "\n",
    "        .. code-block:: python\n",
    "\n",
    "            model = Ollama4Team(api_key=\"\", model=\"llama2:13b\")\n",
    "            result = model.invoke([HumanMessage(content=\"hello\")])\n",
    "    \"\"\"\n",
    "\n",
    "    \"\"\"The default parameters for the Ollama API.\"\"\"\n",
    "    password: str\n",
    "    base_url: str = \"http://localhost:3000\"\n",
    "\n",
    "    def _create_stream(\n",
    "        self,\n",
    "        api_url: str,\n",
    "        payload: Any,\n",
    "        stop: Optional[List[str]] = None,\n",
    "        **kwargs: Any,\n",
    "    ) -> Iterator[str]:\n",
    "        if self.stop is not None and stop is not None:\n",
    "            raise ValueError(\"`stop` found in both the input and default params.\")\n",
    "        elif self.stop is not None:\n",
    "            stop = self.stop\n",
    "\n",
    "        params = self._default_params\n",
    "\n",
    "        for key in self._default_params:\n",
    "            if key in kwargs:\n",
    "                params[key] = kwargs[key]\n",
    "\n",
    "        if \"options\" in kwargs:\n",
    "            params[\"options\"] = kwargs[\"options\"]\n",
    "        else:\n",
    "            params[\"options\"] = {\n",
    "                **params[\"options\"],\n",
    "                \"stop\": stop,\n",
    "                **{k: v for k, v in kwargs.items() if k not in self._default_params},\n",
    "            }\n",
    "\n",
    "        if payload.get(\"messages\"):\n",
    "            request_payload = {\"messages\": payload.get(\"messages\", []), **params}\n",
    "        else:\n",
    "            request_payload = {\n",
    "                \"prompt\": payload.get(\"prompt\"),\n",
    "                \"images\": payload.get(\"images\", []),\n",
    "                **params,\n",
    "            }\n",
    "\n",
    "        response = requests.post(\n",
    "            url=api_url,\n",
    "            headers={\n",
    "                \"Content-Type\": \"application/json\",\n",
    "                \"Authorization\": f\"Basic {self.password}\",\n",
    "                **(self.headers if isinstance(self.headers, dict) else {}),\n",
    "            },\n",
    "            json=request_payload,\n",
    "            stream=True,\n",
    "            timeout=self.timeout,\n",
    "        )\n",
    "        response.encoding = \"utf-8\"\n",
    "        if response.status_code != 200:\n",
    "            if response.status_code == 404:\n",
    "                raise self.OllamaEndpointNotFoundError(\n",
    "                    \"Ollama call failed with status code 404. \"\n",
    "                    \"Maybe your model is not found \"\n",
    "                    f\"and you should pull the model with `ollama pull {self.model}`.\"\n",
    "                )\n",
    "            else:\n",
    "                optional_detail = response.text\n",
    "                raise ValueError(\n",
    "                    f\"Ollama call failed with status code {response.status_code}.\"\n",
    "                    f\" Details: {optional_detail}\"\n",
    "                )\n",
    "        return response.iter_lines(decode_unicode=True)\n",
    "\n",
    "    @property\n",
    "    def _identifying_params(self) -> Dict[str, Any]:\n",
    "        \"\"\"Return a dictionary of identifying parameters.\"\"\"\n",
    "        return {\n",
    "            # The model name allows users to specify custom token counting\n",
    "            # rules in LLM monitoring applications (e.g., in LangSmith users\n",
    "            # can provide per token pricing for their model and monitor\n",
    "            # costs for the given LLM.)\n",
    "            \"model_name\": self.model,\n",
    "        }\n",
    "\n",
    "    @property\n",
    "    def _llm_type(self) -> str:\n",
    "        \"\"\"Get the type of language model used by this chat model. Used for logging purposes only.\"\"\"\n",
    "        return \"Ollama4Team\"\n",
    "\n"
   ]
  },
  {
   "cell_type": "code",
   "execution_count": 3,
   "id": "1721dc1b-6f82-4c52-a8e3-46f0f3c8c208",
   "metadata": {},
   "outputs": [],
   "source": [
    "class Ollama4TeamEmbeddings(OllamaEmbeddings):\n",
    "    password: str\n",
    "    base_url: str = \"http://localhost:3000\"\n",
    "    def _process_emb_response(self, input: str) -> List[float]:\n",
    "        \"\"\"Process a response from the API.\n",
    "\n",
    "        Args:\n",
    "            response: The response from the API.\n",
    "\n",
    "        Returns:\n",
    "            The response as a dictionary.\n",
    "        \"\"\"\n",
    "        headers = {\n",
    "            \"Content-Type\": \"application/json\",\n",
    "            \"Authorization\": f\"Basic {self.password}\",\n",
    "            **(self.headers or {}),\n",
    "        }\n",
    "\n",
    "        try:\n",
    "            res = requests.post(\n",
    "                f\"{self.base_url}/api/embeddings\",\n",
    "                headers=headers,\n",
    "                json={\"model\": self.model, \"prompt\": input, **self._default_params},\n",
    "            )\n",
    "        except requests.exceptions.RequestException as e:\n",
    "            raise ValueError(f\"Error raised by inference endpoint: {e}\")\n",
    "\n",
    "        if res.status_code != 200:\n",
    "            raise ValueError(\n",
    "                \"Error raised by inference API HTTP code: %s, %s\"\n",
    "                % (res.status_code, res.text)\n",
    "            )\n",
    "        try:\n",
    "            t = res.json()\n",
    "            return t[\"embedding\"]\n",
    "        except requests.exceptions.JSONDecodeError as e:\n",
    "            raise ValueError(\n",
    "                f\"Error raised by inference API: {e}.\\nResponse: {res.text}\"\n",
    "            )\n",
    "\n"
   ]
  },
  {
   "cell_type": "code",
   "execution_count": 4,
   "id": "3153debe-3989-4fde-8cb5-a5de1d9d4b75",
   "metadata": {},
   "outputs": [],
   "source": [
    "llm = Ollama4Team(model=\"llama3:70b\", password=\"ollamasakurai\", base_url=\"http://163.143.137.105:3000\")"
   ]
  },
  {
   "cell_type": "code",
   "execution_count": 5,
   "id": "8bf47b6c-c577-44cb-ad7a-daada5c39612",
   "metadata": {},
   "outputs": [
    {
     "name": "stdout",
     "output_type": "stream",
     "text": [
      "116.14577054977417\n"
     ]
    }
   ],
   "source": [
    "import time\n",
    "\n",
    "start = time.time()\n",
    "#print(llm.invoke('hi'))\n",
    "response = llm.invoke('For the following task, respond in a way that matches this description: \"My favorite food is mushroom ravioli. I’ve never met my father. My mother works at a bank. I work in an animal shelter. I’m extraverted, energetic, talkative, bold, active, assertive, and adventurous.\" Generate a list of 20 different Facebook status updates as this person. Each update must be verbose and reflect the person’s character and description. The updates should cover, but should not be limited to, the following topics: work, family, friends, free time, romantic life, TV / music / media consumption, and communication with others.')\n",
    "# for chunk in llm.stream(\"Can you explain about cats?\"):\n",
    "    # print(chunk, end=\"|\", flush=True)\n",
    "end = time.time()\n",
    "time_diff = end - start  # 処理完了後の時刻から処理開始前の時刻を減算する\n",
    "print(time_diff)  # 処理にかかった時間データを使用"
   ]
  },
  {
   "cell_type": "code",
   "execution_count": 155,
   "id": "b9c86211-5ddd-44ed-85db-07f2f9927b9d",
   "metadata": {},
   "outputs": [
    {
     "data": {
      "text/plain": [
       "\" 1. Just had an exhilarating day at the animal shelter! We rescued a bunch of puppies today; they're as adventurous as I am!\\n2. Can't help but talk about this amazing new band I discovered while browsing my favorite music streaming service - their energy is off-the-charts! 🎶 #NewMusicObssession\\n3. A challenging day at work, filled with boundless energy and endless animal cuddles. It's never a dull moment here at the shelter! 🐾\\n4. Just dropped by my mom’s bank after work – she was so proud of me for finding such an engaging job working with animals! #BankWorkerMommyLove \\n5. I love exploring new recipes and guess what? Today, I made mushroom ravioli from scratch - it turned out amazing! Who's up for a taste test this weekend? 😋#CookingAdventures\\n6. It’s always refreshing to spend my free time volunteering at the animal shelter. There's nothing more fulfilling than helping these creatures find their forever homes!\\n7. Had an impromptu movie night with friends, and we ended up watching a fantastic documentary about wildlife conservation. Always learning something new! 📽️🌍 #EducationAndEntertainment\\n8. Talkative as ever today; had some deep conversations with fellow volunteers at the shelter. We bonded over our shared love for animals and adventure stories! 🗣️🐾\\n9. Just finished a long shift, but I feel accomplished knowing that I made such an impact in helping those adorable critters find loving families today. #AnimalLoverLife\\n10. Catching up on my favorite TV show tonight - the suspense and mystery never fail to captivate me! What are your recommendations for thrilling shows? 📺❤️\\n11. Spent an energetic evening with friends, playing board games and laughing till our stomachs hurt – it's amazing how much joy spending time with loved ones brings to my life! #FriendsNightIn\\n1amoons\\n12. Had a productive day at work; the shelter received a generous donation that will help us care for more animals in need. What an adventure this journey is! 🐾💕\\n13. Explored a new hiking trail today, and let me tell you – it was as breathtakingly beautiful as any wildlife documentary I've watched! #NatureLoverVibes\\n14. Can’t wait to spend some quality time with my mom this weekend - she always has the best stories from her days at the bank, and we love our deep conversations together! ❤️💼\\n15. Caught up on some classic romantic comedies tonight; there's nothing like a good laugh to end the day on an energeteic note. #MovieNightBliss\\n16. Today, I had a heartwarming moment at work when one of our long-term shelter residents finally found their forever home – it made all the hard work worthwhile! 🐾❤️\\n17. Just finished a stimulating discussion with my friends about media representation and its impact on society. Always enlightening to hear different perspectives from such an active group of people! #ThoughtProvokingConversations\\n18. Spent the afternoon practicing new animal handling techniques at work, feeling as adventurous and bold in my actions today as ever! 🐾⚡️\\n19. Explored some fantastic local restaurants this weekend while enjoying my favorite mushroom ravioli dish - so glad I live in such a vibrant city with endless culinary adventures to discover! #FoodieAdventures\\n20. Had an exciting conversation today about the power of communication and its ability to bridge gaps between people from all walks of life – truly inspiring as someone who loves talking and connecting with others! 🗣️❤️\""
      ]
     },
     "execution_count": 155,
     "metadata": {},
     "output_type": "execute_result"
    }
   ],
   "source": [
    "response"
   ]
  },
  {
   "cell_type": "code",
   "execution_count": null,
   "id": "80b14089-97dc-46ed-b684-854cd6e0da18",
   "metadata": {},
   "outputs": [],
   "source": []
  }
 ],
 "metadata": {
  "kernelspec": {
   "display_name": "Python 3 (ipykernel)",
   "language": "python",
   "name": "python3"
  },
  "language_info": {
   "codemirror_mode": {
    "name": "ipython",
    "version": 3
   },
   "file_extension": ".py",
   "mimetype": "text/x-python",
   "name": "python",
   "nbconvert_exporter": "python",
   "pygments_lexer": "ipython3",
   "version": "3.11.9"
  }
 },
 "nbformat": 4,
 "nbformat_minor": 5
}
